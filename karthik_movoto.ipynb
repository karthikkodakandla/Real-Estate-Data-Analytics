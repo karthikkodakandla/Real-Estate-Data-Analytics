{
  "nbformat": 4,
  "nbformat_minor": 0,
  "metadata": {
    "colab": {
      "name": "karthik_movoto.ipynb",
      "provenance": [],
      "collapsed_sections": []
    },
    "kernelspec": {
      "name": "python3",
      "display_name": "Python 3"
    },
    "language_info": {
      "name": "python"
    }
  },
  "cells": [
    {
      "cell_type": "code",
      "metadata": {
        "colab": {
          "base_uri": "https://localhost:8080/"
        },
        "id": "6w5D7QF8fBTf",
        "outputId": "dbf7f127-5569-46cb-d575-3f949a815d60"
      },
      "source": [
        "import pandas as pd\n",
        "import requests\n",
        "import math\n",
        "import time\n",
        "import random\n",
        "\n",
        "hdr = {\n",
        "'sec-ch-ua': '\" Not A;Brand\";v=\"99\", \"Chromium\";v=\"90\", \"Google Chrome\";v=\"90\"',\n",
        "'sec-ch-ua-mobile': '?0',\n",
        "'Upgrade-Insecure-Requests': '1',\n",
        "'User-Agent': 'Mozilla/5.0 (Windows NT 10.0; Win64; x64) AppleWebKit/537.36 (KHTML, like Gecko) Chrome/90.0.4430.85 Safari/537.36'}    \n",
        "\n",
        "url = 'https://www.movoto.com/api/v/search/'\n",
        "\n",
        "page = 1\n",
        "payload= {\n",
        "'path': '/san-francisco-ca/p-%s/' %page,\n",
        "'fullUrlPath': '/san-francisco-ca/p-%s/' %page}\n",
        "\n",
        "\n",
        "def get_data(url,payload,hdr):\n",
        "    try:\n",
        "        jsonData = requests.get(url, params=payload, headers=hdr).json()\n",
        "        return jsonData, True\n",
        "    except Exception as e:\n",
        "        print(e)\n",
        "        randSleep = random.randint(500, 1500)/100\n",
        "        print('Will rerty in %s seconds.' %(int(randSleep)))\n",
        "        time.sleep(randSleep)\n",
        "        return None, False\n",
        "    \n",
        "\n",
        "success = False\n",
        "while success == False:\n",
        "    jsonData, success = get_data(url, payload, hdr)\n",
        "\n",
        "total_pages = math.ceil(jsonData['data']['totalCount'] / 50)\n",
        "\n",
        "df = pd.DataFrame()\n",
        "for page in range(1, total_pages+1):\n",
        "    if page==1:\n",
        "        pass\n",
        "    else:\n",
        "        success = False\n",
        "        payload= {\n",
        "            'path': '/san-francisco-ca/p-%s/' %page,\n",
        "            'fullUrlPath': '/san-francisco-ca/p-%s/' %page}\n",
        "        while success == False:\n",
        "            jsonData, success = get_data(url, payload, hdr)\n",
        "        \n",
        "    data = jsonData['data']['listings']\n",
        "    data = pd.json_normalize(data)    \n",
        "    df = df.append(data, sort=False)\n",
        "    print('%s of %s' %(page, total_pages))\n",
        "    \n",
        "df = df.reset_index(drop=True)"
      ],
      "execution_count": 39,
      "outputs": [
        {
          "output_type": "stream",
          "text": [
            "1 of 40\n",
            "2 of 40\n",
            "3 of 40\n",
            "4 of 40\n",
            "5 of 40\n",
            "6 of 40\n",
            "7 of 40\n",
            "8 of 40\n",
            "9 of 40\n",
            "10 of 40\n",
            "11 of 40\n",
            "12 of 40\n",
            "13 of 40\n",
            "14 of 40\n",
            "Expecting value: line 1 column 1 (char 0)\n",
            "Will rerty in 10 seconds.\n",
            "Expecting value: line 1 column 1 (char 0)\n",
            "Will rerty in 8 seconds.\n",
            "Expecting value: line 1 column 1 (char 0)\n",
            "Will rerty in 12 seconds.\n",
            "Expecting value: line 1 column 1 (char 0)\n",
            "Will rerty in 10 seconds.\n",
            "Expecting value: line 1 column 1 (char 0)\n",
            "Will rerty in 8 seconds.\n",
            "Expecting value: line 1 column 1 (char 0)\n",
            "Will rerty in 10 seconds.\n",
            "Expecting value: line 1 column 1 (char 0)\n",
            "Will rerty in 8 seconds.\n",
            "Expecting value: line 1 column 1 (char 0)\n",
            "Will rerty in 9 seconds.\n",
            "Expecting value: line 1 column 1 (char 0)\n",
            "Will rerty in 12 seconds.\n",
            "Expecting value: line 1 column 1 (char 0)\n",
            "Will rerty in 9 seconds.\n",
            "15 of 40\n",
            "16 of 40\n",
            "17 of 40\n",
            "18 of 40\n",
            "19 of 40\n",
            "20 of 40\n",
            "21 of 40\n",
            "22 of 40\n",
            "23 of 40\n",
            "24 of 40\n",
            "25 of 40\n",
            "26 of 40\n",
            "27 of 40\n",
            "Expecting value: line 1 column 1 (char 0)\n",
            "Will rerty in 12 seconds.\n",
            "Expecting value: line 1 column 1 (char 0)\n",
            "Will rerty in 7 seconds.\n",
            "Expecting value: line 1 column 1 (char 0)\n",
            "Will rerty in 9 seconds.\n",
            "Expecting value: line 1 column 1 (char 0)\n",
            "Will rerty in 6 seconds.\n",
            "Expecting value: line 1 column 1 (char 0)\n",
            "Will rerty in 8 seconds.\n",
            "Expecting value: line 1 column 1 (char 0)\n",
            "Will rerty in 13 seconds.\n",
            "Expecting value: line 1 column 1 (char 0)\n",
            "Will rerty in 13 seconds.\n",
            "Expecting value: line 1 column 1 (char 0)\n",
            "Will rerty in 9 seconds.\n",
            "28 of 40\n",
            "29 of 40\n",
            "30 of 40\n",
            "31 of 40\n",
            "32 of 40\n",
            "33 of 40\n",
            "34 of 40\n",
            "35 of 40\n",
            "36 of 40\n",
            "37 of 40\n",
            "38 of 40\n",
            "39 of 40\n",
            "40 of 40\n"
          ],
          "name": "stdout"
        }
      ]
    },
    {
      "cell_type": "code",
      "metadata": {
        "colab": {
          "base_uri": "https://localhost:8080/"
        },
        "id": "2FhnGPmI4IPf",
        "outputId": "2eee6fbf-2920-47c1-e088-1197fe8dca19"
      },
      "source": [
        "df.shape"
      ],
      "execution_count": 40,
      "outputs": [
        {
          "output_type": "execute_result",
          "data": {
            "text/plain": [
              "(1990, 61)"
            ]
          },
          "metadata": {
            "tags": []
          },
          "execution_count": 40
        }
      ]
    },
    {
      "cell_type": "markdown",
      "metadata": {
        "id": "n2YWrh5otqHC"
      },
      "source": [
        "1990 records extracted with 61 columns"
      ]
    },
    {
      "cell_type": "code",
      "metadata": {
        "id": "Chg4Ni2CgpdV"
      },
      "source": [
        "df.to_csv('movoto.csv',sep=',')# saving extracted data to movoto.csv"
      ],
      "execution_count": 41,
      "outputs": []
    },
    {
      "cell_type": "code",
      "metadata": {
        "id": "CDs_fEbK4Z__"
      },
      "source": [
        "movoto=pd.read_csv('movoto.csv') # reading file \"movoto.csv\""
      ],
      "execution_count": 42,
      "outputs": []
    },
    {
      "cell_type": "code",
      "metadata": {
        "colab": {
          "base_uri": "https://localhost:8080/",
          "height": 715
        },
        "id": "ODyS0_Y74aDL",
        "outputId": "4e4cafe9-8c1c-4247-932c-f6320d7764d5"
      },
      "source": [
        "movoto.head() # to display few records to analyse the data and to understand which columns will be useful for further anlaysis"
      ],
      "execution_count": 43,
      "outputs": [
        {
          "output_type": "execute_result",
          "data": {
            "text/html": [
              "<div>\n",
              "<style scoped>\n",
              "    .dataframe tbody tr th:only-of-type {\n",
              "        vertical-align: middle;\n",
              "    }\n",
              "\n",
              "    .dataframe tbody tr th {\n",
              "        vertical-align: top;\n",
              "    }\n",
              "\n",
              "    .dataframe thead th {\n",
              "        text-align: right;\n",
              "    }\n",
              "</style>\n",
              "<table border=\"1\" class=\"dataframe\">\n",
              "  <thead>\n",
              "    <tr style=\"text-align: right;\">\n",
              "      <th></th>\n",
              "      <th>Unnamed: 0</th>\n",
              "      <th>closePrice</th>\n",
              "      <th>daysOnMovoto</th>\n",
              "      <th>id</th>\n",
              "      <th>tnImgPath</th>\n",
              "      <th>listDate</th>\n",
              "      <th>listingAgent</th>\n",
              "      <th>listPrice</th>\n",
              "      <th>lotSize</th>\n",
              "      <th>sqftTotal</th>\n",
              "      <th>mlsDbNumber</th>\n",
              "      <th>mlsNumber</th>\n",
              "      <th>bath</th>\n",
              "      <th>bed</th>\n",
              "      <th>openHouses</th>\n",
              "      <th>officeListName</th>\n",
              "      <th>photoCount</th>\n",
              "      <th>propertyType</th>\n",
              "      <th>propertyTypeDisplayName</th>\n",
              "      <th>yearBuilt</th>\n",
              "      <th>zipCode</th>\n",
              "      <th>path</th>\n",
              "      <th>status</th>\n",
              "      <th>houseRealStatus</th>\n",
              "      <th>priceChange</th>\n",
              "      <th>propertyId</th>\n",
              "      <th>visibility</th>\n",
              "      <th>soldDate</th>\n",
              "      <th>createdAt</th>\n",
              "      <th>imageDownloaderStatus</th>\n",
              "      <th>onMarketDateTime</th>\n",
              "      <th>virtualTourLink</th>\n",
              "      <th>nhsDetails</th>\n",
              "      <th>isNHS</th>\n",
              "      <th>isSold</th>\n",
              "      <th>listingByMovoto</th>\n",
              "      <th>priceRaw</th>\n",
              "      <th>isVideoTour</th>\n",
              "      <th>is3DTour</th>\n",
              "      <th>videoTourLink</th>\n",
              "      <th>mls.dateHidden</th>\n",
              "      <th>mls.id</th>\n",
              "      <th>geo.state</th>\n",
              "      <th>geo.city</th>\n",
              "      <th>geo.lat</th>\n",
              "      <th>geo.lng</th>\n",
              "      <th>geo.zipcode</th>\n",
              "      <th>geo.subPremise</th>\n",
              "      <th>geo.address</th>\n",
              "      <th>virtualLink</th>\n",
              "      <th>address</th>\n",
              "      <th>nhsBuilderName</th>\n",
              "      <th>nhsBuilderId</th>\n",
              "      <th>nhsListingType</th>\n",
              "      <th>nhsMarketName</th>\n",
              "      <th>nhsMarketId</th>\n",
              "      <th>nhsPlanName</th>\n",
              "      <th>nhsCommunityName</th>\n",
              "      <th>nhsCommunityId</th>\n",
              "      <th>longitude</th>\n",
              "      <th>latitude</th>\n",
              "      <th>activeUnderContract</th>\n",
              "    </tr>\n",
              "  </thead>\n",
              "  <tbody>\n",
              "    <tr>\n",
              "      <th>0</th>\n",
              "      <td>0</td>\n",
              "      <td>NaN</td>\n",
              "      <td>0</td>\n",
              "      <td>09821e54-78cd-4a5e-8dfc-59f0d8355131</td>\n",
              "      <td>https://pi.movoto.com/p/12/40948159_0_77ajuZ_p...</td>\n",
              "      <td>2021-05-02 00:00:00</td>\n",
              "      <td>Carlos Otazu</td>\n",
              "      <td>1150000</td>\n",
              "      <td>1750.0</td>\n",
              "      <td>1064.0</td>\n",
              "      <td>12</td>\n",
              "      <td>40948159</td>\n",
              "      <td>1.0</td>\n",
              "      <td>3.0</td>\n",
              "      <td>[]</td>\n",
              "      <td>Bay Port Group Real Estate Inc.</td>\n",
              "      <td>1</td>\n",
              "      <td>SINGLE_FAMILY_HOUSE</td>\n",
              "      <td>Detached</td>\n",
              "      <td>1952.0</td>\n",
              "      <td>94110</td>\n",
              "      <td>san-francisco-ca/639-banks-st-san-francisco-ca...</td>\n",
              "      <td>Active</td>\n",
              "      <td>ACTIVE</td>\n",
              "      <td>NaN</td>\n",
              "      <td>7a66e4b8-6ada-4a45-b506-97cbfd4ba495</td>\n",
              "      <td>NO_RESTRICTION</td>\n",
              "      <td>NaN</td>\n",
              "      <td>2021-05-02 23:26:22</td>\n",
              "      <td>7</td>\n",
              "      <td>2021-05-02 00:00:00</td>\n",
              "      <td>NaN</td>\n",
              "      <td>NaN</td>\n",
              "      <td>False</td>\n",
              "      <td>False</td>\n",
              "      <td>False</td>\n",
              "      <td>1150000</td>\n",
              "      <td>False</td>\n",
              "      <td>False</td>\n",
              "      <td>NaN</td>\n",
              "      <td>NaN</td>\n",
              "      <td>12</td>\n",
              "      <td>CA</td>\n",
              "      <td>San Francisco</td>\n",
              "      <td>37.735342</td>\n",
              "      <td>-122.412869</td>\n",
              "      <td>94110</td>\n",
              "      <td>NaN</td>\n",
              "      <td>639 Banks St</td>\n",
              "      <td>NaN</td>\n",
              "      <td>NaN</td>\n",
              "      <td>NaN</td>\n",
              "      <td>NaN</td>\n",
              "      <td>NaN</td>\n",
              "      <td>NaN</td>\n",
              "      <td>NaN</td>\n",
              "      <td>NaN</td>\n",
              "      <td>NaN</td>\n",
              "      <td>NaN</td>\n",
              "      <td>NaN</td>\n",
              "      <td>NaN</td>\n",
              "      <td>NaN</td>\n",
              "    </tr>\n",
              "    <tr>\n",
              "      <th>1</th>\n",
              "      <td>1</td>\n",
              "      <td>NaN</td>\n",
              "      <td>0</td>\n",
              "      <td>6a0b5b46-9b5d-4e29-9ae5-5d6d1b87907a</td>\n",
              "      <td>https://pi.movoto.com/p/100/ML81841885_0_qIJI7...</td>\n",
              "      <td>2021-05-02 13:45:06</td>\n",
              "      <td>Robert Pedro</td>\n",
              "      <td>1850000</td>\n",
              "      <td>2500.0</td>\n",
              "      <td>2592.0</td>\n",
              "      <td>100</td>\n",
              "      <td>ML81841885</td>\n",
              "      <td>4.0</td>\n",
              "      <td>5.0</td>\n",
              "      <td>[]</td>\n",
              "      <td>Signature Realty &amp; Mortgage</td>\n",
              "      <td>45</td>\n",
              "      <td>SINGLE_FAMILY_HOUSE</td>\n",
              "      <td>Single Family</td>\n",
              "      <td>1906.0</td>\n",
              "      <td>94110</td>\n",
              "      <td>san-francisco-ca/459-461-potrero-ave-san-franc...</td>\n",
              "      <td>Active</td>\n",
              "      <td>ACTIVE</td>\n",
              "      <td>NaN</td>\n",
              "      <td>fc711eff-8bae-4f29-8bcb-8fd0bb288482</td>\n",
              "      <td>NO_RESTRICTION</td>\n",
              "      <td>NaN</td>\n",
              "      <td>2021-05-02 20:47:28</td>\n",
              "      <td>7</td>\n",
              "      <td>2021-05-02 13:45:06</td>\n",
              "      <td>Http://www.459-461Potrero.com/?mls</td>\n",
              "      <td>NaN</td>\n",
              "      <td>False</td>\n",
              "      <td>False</td>\n",
              "      <td>False</td>\n",
              "      <td>1850000</td>\n",
              "      <td>False</td>\n",
              "      <td>True</td>\n",
              "      <td>NaN</td>\n",
              "      <td>NaN</td>\n",
              "      <td>100</td>\n",
              "      <td>CA</td>\n",
              "      <td>San Francisco</td>\n",
              "      <td>0.000000</td>\n",
              "      <td>0.000000</td>\n",
              "      <td>94110</td>\n",
              "      <td>NaN</td>\n",
              "      <td>459 461 Potrero Ave</td>\n",
              "      <td>Http://www.459-461Potrero.com/?mls</td>\n",
              "      <td>NaN</td>\n",
              "      <td>NaN</td>\n",
              "      <td>NaN</td>\n",
              "      <td>NaN</td>\n",
              "      <td>NaN</td>\n",
              "      <td>NaN</td>\n",
              "      <td>NaN</td>\n",
              "      <td>NaN</td>\n",
              "      <td>NaN</td>\n",
              "      <td>NaN</td>\n",
              "      <td>NaN</td>\n",
              "      <td>NaN</td>\n",
              "    </tr>\n",
              "    <tr>\n",
              "      <th>2</th>\n",
              "      <td>2</td>\n",
              "      <td>NaN</td>\n",
              "      <td>0</td>\n",
              "      <td>7b860ca9-3a1c-4cb6-b1ec-4bd608de7a51</td>\n",
              "      <td>https://pi.movoto.com/p/110/421543165_0_yJqMbu...</td>\n",
              "      <td>2021-03-04 00:00:00</td>\n",
              "      <td>Stacey Caen</td>\n",
              "      <td>12800000</td>\n",
              "      <td>18905.0</td>\n",
              "      <td>0.0</td>\n",
              "      <td>110</td>\n",
              "      <td>421543165</td>\n",
              "      <td>7.0</td>\n",
              "      <td>5.0</td>\n",
              "      <td>[]</td>\n",
              "      <td>Sotheby's International Realty</td>\n",
              "      <td>38</td>\n",
              "      <td>SINGLE_FAMILY_HOUSE</td>\n",
              "      <td>Residential - Single Family</td>\n",
              "      <td>1870.0</td>\n",
              "      <td>94115</td>\n",
              "      <td>san-francisco-ca/1901-scott-st-san-francisco-c...</td>\n",
              "      <td>Active</td>\n",
              "      <td>ACTIVE</td>\n",
              "      <td>NaN</td>\n",
              "      <td>05fbb19c-18dc-4e9b-863c-0fba92ed65ea</td>\n",
              "      <td>NO_RESTRICTION</td>\n",
              "      <td>NaN</td>\n",
              "      <td>2021-05-02 19:16:16</td>\n",
              "      <td>7</td>\n",
              "      <td>2021-03-04 00:00:00</td>\n",
              "      <td>Https://caenlucier.com/1901</td>\n",
              "      <td>NaN</td>\n",
              "      <td>False</td>\n",
              "      <td>False</td>\n",
              "      <td>False</td>\n",
              "      <td>12800000</td>\n",
              "      <td>False</td>\n",
              "      <td>True</td>\n",
              "      <td>NaN</td>\n",
              "      <td>NaN</td>\n",
              "      <td>110</td>\n",
              "      <td>CA</td>\n",
              "      <td>San Francisco</td>\n",
              "      <td>37.787707</td>\n",
              "      <td>-122.438983</td>\n",
              "      <td>94115</td>\n",
              "      <td>NaN</td>\n",
              "      <td>1901 Scott St</td>\n",
              "      <td>Https://caenlucier.com/1901</td>\n",
              "      <td>NaN</td>\n",
              "      <td>NaN</td>\n",
              "      <td>NaN</td>\n",
              "      <td>NaN</td>\n",
              "      <td>NaN</td>\n",
              "      <td>NaN</td>\n",
              "      <td>NaN</td>\n",
              "      <td>NaN</td>\n",
              "      <td>NaN</td>\n",
              "      <td>NaN</td>\n",
              "      <td>NaN</td>\n",
              "      <td>NaN</td>\n",
              "    </tr>\n",
              "    <tr>\n",
              "      <th>3</th>\n",
              "      <td>3</td>\n",
              "      <td>NaN</td>\n",
              "      <td>0</td>\n",
              "      <td>c5829e43-7366-4119-901a-5cb4a45fdc44</td>\n",
              "      <td>https://pi.movoto.com/p/110/421540137_0_UbQ6mI...</td>\n",
              "      <td>2020-08-19 00:00:00</td>\n",
              "      <td>Gregory Polchow</td>\n",
              "      <td>2495000</td>\n",
              "      <td>1263.0</td>\n",
              "      <td>3029.0</td>\n",
              "      <td>110</td>\n",
              "      <td>421540137</td>\n",
              "      <td>NaN</td>\n",
              "      <td>4.0</td>\n",
              "      <td>[]</td>\n",
              "      <td>Sotheby's International Realty Inc</td>\n",
              "      <td>25</td>\n",
              "      <td>MULTI_FAMILY</td>\n",
              "      <td>Multi Family</td>\n",
              "      <td>1927.0</td>\n",
              "      <td>94133</td>\n",
              "      <td>san-francisco-ca/20-darrell-pl-apt-2-san-franc...</td>\n",
              "      <td>Active</td>\n",
              "      <td>ACTIVE</td>\n",
              "      <td>NaN</td>\n",
              "      <td>11164eea-435a-46a0-b129-870c9bff58b3</td>\n",
              "      <td>NO_RESTRICTION</td>\n",
              "      <td>NaN</td>\n",
              "      <td>2021-05-02 18:36:22</td>\n",
              "      <td>7</td>\n",
              "      <td>2020-08-19 00:00:00</td>\n",
              "      <td>NaN</td>\n",
              "      <td>NaN</td>\n",
              "      <td>False</td>\n",
              "      <td>False</td>\n",
              "      <td>False</td>\n",
              "      <td>2495000</td>\n",
              "      <td>False</td>\n",
              "      <td>False</td>\n",
              "      <td>NaN</td>\n",
              "      <td>NaN</td>\n",
              "      <td>110</td>\n",
              "      <td>CA</td>\n",
              "      <td>San Francisco</td>\n",
              "      <td>37.802322</td>\n",
              "      <td>-122.404229</td>\n",
              "      <td>94133</td>\n",
              "      <td>APT 2</td>\n",
              "      <td>20 Darrell Pl #2</td>\n",
              "      <td>NaN</td>\n",
              "      <td>NaN</td>\n",
              "      <td>NaN</td>\n",
              "      <td>NaN</td>\n",
              "      <td>NaN</td>\n",
              "      <td>NaN</td>\n",
              "      <td>NaN</td>\n",
              "      <td>NaN</td>\n",
              "      <td>NaN</td>\n",
              "      <td>NaN</td>\n",
              "      <td>NaN</td>\n",
              "      <td>NaN</td>\n",
              "      <td>NaN</td>\n",
              "    </tr>\n",
              "    <tr>\n",
              "      <th>4</th>\n",
              "      <td>4</td>\n",
              "      <td>NaN</td>\n",
              "      <td>0</td>\n",
              "      <td>7bd576cf-5013-4570-85b1-84897472c597</td>\n",
              "      <td>https://pi.movoto.com/p/110/421534716_0_JBBuqu...</td>\n",
              "      <td>2021-04-12 00:00:00</td>\n",
              "      <td>Kevin Ho</td>\n",
              "      <td>699000</td>\n",
              "      <td>0.0</td>\n",
              "      <td>0.0</td>\n",
              "      <td>110</td>\n",
              "      <td>421534716</td>\n",
              "      <td>1.0</td>\n",
              "      <td>1.0</td>\n",
              "      <td>[]</td>\n",
              "      <td>Vanguard Properties</td>\n",
              "      <td>28</td>\n",
              "      <td>CONDO</td>\n",
              "      <td>Condominium</td>\n",
              "      <td>1965.0</td>\n",
              "      <td>94107</td>\n",
              "      <td>san-francisco-ca/875-vermont-st-204-san-franci...</td>\n",
              "      <td>Active</td>\n",
              "      <td>ACTIVE</td>\n",
              "      <td>NaN</td>\n",
              "      <td>30d96c92-03c3-4ffd-ab45-8e6704fd9a62</td>\n",
              "      <td>NO_RESTRICTION</td>\n",
              "      <td>NaN</td>\n",
              "      <td>2021-05-02 07:21:14</td>\n",
              "      <td>7</td>\n",
              "      <td>2021-04-12 00:00:00</td>\n",
              "      <td>Https://my.matterport.com/show/?m=WnfNdShWo4L</td>\n",
              "      <td>NaN</td>\n",
              "      <td>False</td>\n",
              "      <td>False</td>\n",
              "      <td>False</td>\n",
              "      <td>699000</td>\n",
              "      <td>False</td>\n",
              "      <td>True</td>\n",
              "      <td>NaN</td>\n",
              "      <td>NaN</td>\n",
              "      <td>110</td>\n",
              "      <td>CA</td>\n",
              "      <td>San Francisco</td>\n",
              "      <td>37.758575</td>\n",
              "      <td>-122.403605</td>\n",
              "      <td>94107</td>\n",
              "      <td>APT 204</td>\n",
              "      <td>875 Vermont St #204</td>\n",
              "      <td>Https://my.matterport.com/show/?m=WnfNdShWo4L</td>\n",
              "      <td>NaN</td>\n",
              "      <td>NaN</td>\n",
              "      <td>NaN</td>\n",
              "      <td>NaN</td>\n",
              "      <td>NaN</td>\n",
              "      <td>NaN</td>\n",
              "      <td>NaN</td>\n",
              "      <td>NaN</td>\n",
              "      <td>NaN</td>\n",
              "      <td>NaN</td>\n",
              "      <td>NaN</td>\n",
              "      <td>NaN</td>\n",
              "    </tr>\n",
              "  </tbody>\n",
              "</table>\n",
              "</div>"
            ],
            "text/plain": [
              "   Unnamed: 0  closePrice  ...  latitude activeUnderContract\n",
              "0           0         NaN  ...       NaN                 NaN\n",
              "1           1         NaN  ...       NaN                 NaN\n",
              "2           2         NaN  ...       NaN                 NaN\n",
              "3           3         NaN  ...       NaN                 NaN\n",
              "4           4         NaN  ...       NaN                 NaN\n",
              "\n",
              "[5 rows x 62 columns]"
            ]
          },
          "metadata": {
            "tags": []
          },
          "execution_count": 43
        }
      ]
    },
    {
      "cell_type": "markdown",
      "metadata": {
        "id": "IntM6glCIH_W"
      },
      "source": [
        ""
      ]
    },
    {
      "cell_type": "code",
      "metadata": {
        "colab": {
          "base_uri": "https://localhost:8080/"
        },
        "id": "VzlGRV9b4aHX",
        "outputId": "91f6ca5c-8ad8-4511-e7c2-4c0592b9da52"
      },
      "source": [
        "movoto.shape"
      ],
      "execution_count": 44,
      "outputs": [
        {
          "output_type": "execute_result",
          "data": {
            "text/plain": [
              "(1990, 62)"
            ]
          },
          "metadata": {
            "tags": []
          },
          "execution_count": 44
        }
      ]
    },
    {
      "cell_type": "code",
      "metadata": {
        "colab": {
          "base_uri": "https://localhost:8080/"
        },
        "id": "XeX4p4ai4aKr",
        "outputId": "bc5bb218-0091-40a0-c62a-fb956df68205"
      },
      "source": [
        "movoto.columns # to display all columns"
      ],
      "execution_count": 45,
      "outputs": [
        {
          "output_type": "execute_result",
          "data": {
            "text/plain": [
              "Index(['Unnamed: 0', 'closePrice', 'daysOnMovoto', 'id', 'tnImgPath',\n",
              "       'listDate', 'listingAgent', 'listPrice', 'lotSize', 'sqftTotal',\n",
              "       'mlsDbNumber', 'mlsNumber', 'bath', 'bed', 'openHouses',\n",
              "       'officeListName', 'photoCount', 'propertyType',\n",
              "       'propertyTypeDisplayName', 'yearBuilt', 'zipCode', 'path', 'status',\n",
              "       'houseRealStatus', 'priceChange', 'propertyId', 'visibility',\n",
              "       'soldDate', 'createdAt', 'imageDownloaderStatus', 'onMarketDateTime',\n",
              "       'virtualTourLink', 'nhsDetails', 'isNHS', 'isSold', 'listingByMovoto',\n",
              "       'priceRaw', 'isVideoTour', 'is3DTour', 'videoTourLink',\n",
              "       'mls.dateHidden', 'mls.id', 'geo.state', 'geo.city', 'geo.lat',\n",
              "       'geo.lng', 'geo.zipcode', 'geo.subPremise', 'geo.address',\n",
              "       'virtualLink', 'address', 'nhsBuilderName', 'nhsBuilderId',\n",
              "       'nhsListingType', 'nhsMarketName', 'nhsMarketId', 'nhsPlanName',\n",
              "       'nhsCommunityName', 'nhsCommunityId', 'longitude', 'latitude',\n",
              "       'activeUnderContract'],\n",
              "      dtype='object')"
            ]
          },
          "metadata": {
            "tags": []
          },
          "execution_count": 45
        }
      ]
    },
    {
      "cell_type": "code",
      "metadata": {
        "colab": {
          "base_uri": "https://localhost:8080/"
        },
        "id": "sGTloD4f5CMk",
        "outputId": "9352c1de-620c-40d5-f719-27d095c84627"
      },
      "source": [
        "movoto.info()"
      ],
      "execution_count": 46,
      "outputs": [
        {
          "output_type": "stream",
          "text": [
            "<class 'pandas.core.frame.DataFrame'>\n",
            "RangeIndex: 1990 entries, 0 to 1989\n",
            "Data columns (total 62 columns):\n",
            " #   Column                   Non-Null Count  Dtype  \n",
            "---  ------                   --------------  -----  \n",
            " 0   Unnamed: 0               1990 non-null   int64  \n",
            " 1   closePrice               0 non-null      float64\n",
            " 2   daysOnMovoto             1990 non-null   int64  \n",
            " 3   id                       1990 non-null   object \n",
            " 4   tnImgPath                1990 non-null   object \n",
            " 5   listDate                 1963 non-null   object \n",
            " 6   listingAgent             1985 non-null   object \n",
            " 7   listPrice                1990 non-null   int64  \n",
            " 8   lotSize                  1912 non-null   float64\n",
            " 9   sqftTotal                1957 non-null   float64\n",
            " 10  mlsDbNumber              1990 non-null   int64  \n",
            " 11  mlsNumber                1990 non-null   object \n",
            " 12  bath                     1811 non-null   float64\n",
            " 13  bed                      1838 non-null   float64\n",
            " 14  openHouses               1990 non-null   object \n",
            " 15  officeListName           1969 non-null   object \n",
            " 16  photoCount               1990 non-null   int64  \n",
            " 17  propertyType             1990 non-null   object \n",
            " 18  propertyTypeDisplayName  1990 non-null   object \n",
            " 19  yearBuilt                1780 non-null   float64\n",
            " 20  zipCode                  1990 non-null   int64  \n",
            " 21  path                     1990 non-null   object \n",
            " 22  status                   1990 non-null   object \n",
            " 23  houseRealStatus          1990 non-null   object \n",
            " 24  priceChange              367 non-null    float64\n",
            " 25  propertyId               1990 non-null   object \n",
            " 26  visibility               1990 non-null   object \n",
            " 27  soldDate                 50 non-null     object \n",
            " 28  createdAt                1990 non-null   object \n",
            " 29  imageDownloaderStatus    1990 non-null   int64  \n",
            " 30  onMarketDateTime         1990 non-null   object \n",
            " 31  virtualTourLink          1019 non-null   object \n",
            " 32  nhsDetails               0 non-null      float64\n",
            " 33  isNHS                    1990 non-null   bool   \n",
            " 34  isSold                   1990 non-null   bool   \n",
            " 35  listingByMovoto          1969 non-null   object \n",
            " 36  priceRaw                 1990 non-null   int64  \n",
            " 37  isVideoTour              1990 non-null   bool   \n",
            " 38  is3DTour                 1990 non-null   bool   \n",
            " 39  videoTourLink            0 non-null      float64\n",
            " 40  mls.dateHidden           0 non-null      float64\n",
            " 41  mls.id                   1990 non-null   int64  \n",
            " 42  geo.state                1990 non-null   object \n",
            " 43  geo.city                 1990 non-null   object \n",
            " 44  geo.lat                  1990 non-null   float64\n",
            " 45  geo.lng                  1990 non-null   float64\n",
            " 46  geo.zipcode              1990 non-null   int64  \n",
            " 47  geo.subPremise           1183 non-null   object \n",
            " 48  geo.address              1990 non-null   object \n",
            " 49  virtualLink              1019 non-null   object \n",
            " 50  address                  23 non-null     object \n",
            " 51  nhsBuilderName           21 non-null     object \n",
            " 52  nhsBuilderId             21 non-null     float64\n",
            " 53  nhsListingType           21 non-null     object \n",
            " 54  nhsMarketName            0 non-null      float64\n",
            " 55  nhsMarketId              0 non-null      float64\n",
            " 56  nhsPlanName              21 non-null     object \n",
            " 57  nhsCommunityName         21 non-null     object \n",
            " 58  nhsCommunityId           21 non-null     float64\n",
            " 59  longitude                2 non-null      float64\n",
            " 60  latitude                 2 non-null      float64\n",
            " 61  activeUnderContract      150 non-null    object \n",
            "dtypes: bool(4), float64(18), int64(10), object(30)\n",
            "memory usage: 909.6+ KB\n"
          ],
          "name": "stdout"
        }
      ]
    },
    {
      "cell_type": "code",
      "metadata": {
        "id": "MafRIDRv5QZW"
      },
      "source": [
        "movoto.drop(movoto.columns[[0,1,4,10,14,16,18,27,29,31,32,37,38,39,40,41,44,45,47]], axis=1, inplace=True)"
      ],
      "execution_count": 47,
      "outputs": []
    },
    {
      "cell_type": "code",
      "metadata": {
        "id": "cqTSAHc05CQ7"
      },
      "source": [
        "movoto_df=movoto.drop(labels=['priceChange','id','propertyId','visibility','isNHS','isSold','listingByMovoto','virtualLink', 'address', 'nhsBuilderName', 'nhsBuilderId',\n",
        "       'nhsListingType', 'nhsMarketName', 'nhsMarketId', 'nhsPlanName',\n",
        "       'nhsCommunityName', 'nhsCommunityId', 'longitude', 'latitude',\n",
        "       'activeUnderContract'], axis=1)"
      ],
      "execution_count": 48,
      "outputs": []
    },
    {
      "cell_type": "code",
      "metadata": {
        "colab": {
          "base_uri": "https://localhost:8080/"
        },
        "id": "ba9s1eP75CU0",
        "outputId": "86cee4f2-9275-4717-ffb5-aacd91fff6e0"
      },
      "source": [
        "movoto_df.isna().sum() # to display null values in the columns"
      ],
      "execution_count": 49,
      "outputs": [
        {
          "output_type": "execute_result",
          "data": {
            "text/plain": [
              "daysOnMovoto          0\n",
              "listDate             27\n",
              "listingAgent          5\n",
              "listPrice             0\n",
              "lotSize              78\n",
              "sqftTotal            33\n",
              "mlsNumber             0\n",
              "bath                179\n",
              "bed                 152\n",
              "officeListName       21\n",
              "propertyType          0\n",
              "yearBuilt           210\n",
              "zipCode               0\n",
              "path                  0\n",
              "status                0\n",
              "houseRealStatus       0\n",
              "createdAt             0\n",
              "onMarketDateTime      0\n",
              "priceRaw              0\n",
              "geo.state             0\n",
              "geo.city              0\n",
              "geo.zipcode           0\n",
              "geo.address           0\n",
              "dtype: int64"
            ]
          },
          "metadata": {
            "tags": []
          },
          "execution_count": 49
        }
      ]
    },
    {
      "cell_type": "code",
      "metadata": {
        "id": "ucIPvGHo5CZU"
      },
      "source": [
        "movoto_df.dropna(axis=0,inplace=True) # to delete rows with null values "
      ],
      "execution_count": 50,
      "outputs": []
    },
    {
      "cell_type": "code",
      "metadata": {
        "colab": {
          "base_uri": "https://localhost:8080/"
        },
        "id": "pDMPcX6g4aRx",
        "outputId": "88c2ae87-21d8-416a-8deb-7fd8e96ee3fd"
      },
      "source": [
        "movoto_df.shape"
      ],
      "execution_count": 51,
      "outputs": [
        {
          "output_type": "execute_result",
          "data": {
            "text/plain": [
              "(1529, 23)"
            ]
          },
          "metadata": {
            "tags": []
          },
          "execution_count": 51
        }
      ]
    },
    {
      "cell_type": "code",
      "metadata": {
        "colab": {
          "base_uri": "https://localhost:8080/"
        },
        "id": "JD546YSxuhkM",
        "outputId": "ef258001-11b8-4d5a-9a45-6ea4dc6573ad"
      },
      "source": [
        "movoto_df.columns"
      ],
      "execution_count": 52,
      "outputs": [
        {
          "output_type": "execute_result",
          "data": {
            "text/plain": [
              "Index(['daysOnMovoto', 'listDate', 'listingAgent', 'listPrice', 'lotSize',\n",
              "       'sqftTotal', 'mlsNumber', 'bath', 'bed', 'officeListName',\n",
              "       'propertyType', 'yearBuilt', 'zipCode', 'path', 'status',\n",
              "       'houseRealStatus', 'createdAt', 'onMarketDateTime', 'priceRaw',\n",
              "       'geo.state', 'geo.city', 'geo.zipcode', 'geo.address'],\n",
              "      dtype='object')"
            ]
          },
          "metadata": {
            "tags": []
          },
          "execution_count": 52
        }
      ]
    },
    {
      "cell_type": "code",
      "metadata": {
        "colab": {
          "base_uri": "https://localhost:8080/"
        },
        "id": "rBgiNmgbA4l6",
        "outputId": "8a228636-5568-4feb-826e-c58fe31c28d7"
      },
      "source": [
        "movoto_df['zipCode'].value_counts()"
      ],
      "execution_count": 53,
      "outputs": [
        {
          "output_type": "execute_result",
          "data": {
            "text/plain": [
              "94110    163\n",
              "94107    127\n",
              "94105    118\n",
              "94109    113\n",
              "94103     90\n",
              "94114     87\n",
              "94115     84\n",
              "94112     78\n",
              "94123     72\n",
              "94131     66\n",
              "94117     59\n",
              "94124     56\n",
              "94102     49\n",
              "94133     42\n",
              "94121     42\n",
              "94122     39\n",
              "94134     38\n",
              "94118     38\n",
              "94116     36\n",
              "94127     33\n",
              "94132     26\n",
              "94158     26\n",
              "94108     24\n",
              "94111     15\n",
              "94104      8\n",
              "Name: zipCode, dtype: int64"
            ]
          },
          "metadata": {
            "tags": []
          },
          "execution_count": 53
        }
      ]
    },
    {
      "cell_type": "code",
      "metadata": {
        "colab": {
          "base_uri": "https://localhost:8080/",
          "height": 682
        },
        "id": "2vTYYniuAoGy",
        "outputId": "1f4132c1-f93b-45fc-fee2-27788d63af1b"
      },
      "source": [
        "movoto_df.head()"
      ],
      "execution_count": 54,
      "outputs": [
        {
          "output_type": "execute_result",
          "data": {
            "text/html": [
              "<div>\n",
              "<style scoped>\n",
              "    .dataframe tbody tr th:only-of-type {\n",
              "        vertical-align: middle;\n",
              "    }\n",
              "\n",
              "    .dataframe tbody tr th {\n",
              "        vertical-align: top;\n",
              "    }\n",
              "\n",
              "    .dataframe thead th {\n",
              "        text-align: right;\n",
              "    }\n",
              "</style>\n",
              "<table border=\"1\" class=\"dataframe\">\n",
              "  <thead>\n",
              "    <tr style=\"text-align: right;\">\n",
              "      <th></th>\n",
              "      <th>daysOnMovoto</th>\n",
              "      <th>listDate</th>\n",
              "      <th>listingAgent</th>\n",
              "      <th>listPrice</th>\n",
              "      <th>lotSize</th>\n",
              "      <th>sqftTotal</th>\n",
              "      <th>mlsNumber</th>\n",
              "      <th>bath</th>\n",
              "      <th>bed</th>\n",
              "      <th>officeListName</th>\n",
              "      <th>propertyType</th>\n",
              "      <th>yearBuilt</th>\n",
              "      <th>zipCode</th>\n",
              "      <th>path</th>\n",
              "      <th>status</th>\n",
              "      <th>houseRealStatus</th>\n",
              "      <th>createdAt</th>\n",
              "      <th>onMarketDateTime</th>\n",
              "      <th>priceRaw</th>\n",
              "      <th>geo.state</th>\n",
              "      <th>geo.city</th>\n",
              "      <th>geo.zipcode</th>\n",
              "      <th>geo.address</th>\n",
              "    </tr>\n",
              "  </thead>\n",
              "  <tbody>\n",
              "    <tr>\n",
              "      <th>0</th>\n",
              "      <td>0</td>\n",
              "      <td>2021-05-02 00:00:00</td>\n",
              "      <td>Carlos Otazu</td>\n",
              "      <td>1150000</td>\n",
              "      <td>1750.0</td>\n",
              "      <td>1064.0</td>\n",
              "      <td>40948159</td>\n",
              "      <td>1.0</td>\n",
              "      <td>3.0</td>\n",
              "      <td>Bay Port Group Real Estate Inc.</td>\n",
              "      <td>SINGLE_FAMILY_HOUSE</td>\n",
              "      <td>1952.0</td>\n",
              "      <td>94110</td>\n",
              "      <td>san-francisco-ca/639-banks-st-san-francisco-ca...</td>\n",
              "      <td>Active</td>\n",
              "      <td>ACTIVE</td>\n",
              "      <td>2021-05-02 23:26:22</td>\n",
              "      <td>2021-05-02 00:00:00</td>\n",
              "      <td>1150000</td>\n",
              "      <td>CA</td>\n",
              "      <td>San Francisco</td>\n",
              "      <td>94110</td>\n",
              "      <td>639 Banks St</td>\n",
              "    </tr>\n",
              "    <tr>\n",
              "      <th>1</th>\n",
              "      <td>0</td>\n",
              "      <td>2021-05-02 13:45:06</td>\n",
              "      <td>Robert Pedro</td>\n",
              "      <td>1850000</td>\n",
              "      <td>2500.0</td>\n",
              "      <td>2592.0</td>\n",
              "      <td>ML81841885</td>\n",
              "      <td>4.0</td>\n",
              "      <td>5.0</td>\n",
              "      <td>Signature Realty &amp; Mortgage</td>\n",
              "      <td>SINGLE_FAMILY_HOUSE</td>\n",
              "      <td>1906.0</td>\n",
              "      <td>94110</td>\n",
              "      <td>san-francisco-ca/459-461-potrero-ave-san-franc...</td>\n",
              "      <td>Active</td>\n",
              "      <td>ACTIVE</td>\n",
              "      <td>2021-05-02 20:47:28</td>\n",
              "      <td>2021-05-02 13:45:06</td>\n",
              "      <td>1850000</td>\n",
              "      <td>CA</td>\n",
              "      <td>San Francisco</td>\n",
              "      <td>94110</td>\n",
              "      <td>459 461 Potrero Ave</td>\n",
              "    </tr>\n",
              "    <tr>\n",
              "      <th>2</th>\n",
              "      <td>0</td>\n",
              "      <td>2021-03-04 00:00:00</td>\n",
              "      <td>Stacey Caen</td>\n",
              "      <td>12800000</td>\n",
              "      <td>18905.0</td>\n",
              "      <td>0.0</td>\n",
              "      <td>421543165</td>\n",
              "      <td>7.0</td>\n",
              "      <td>5.0</td>\n",
              "      <td>Sotheby's International Realty</td>\n",
              "      <td>SINGLE_FAMILY_HOUSE</td>\n",
              "      <td>1870.0</td>\n",
              "      <td>94115</td>\n",
              "      <td>san-francisco-ca/1901-scott-st-san-francisco-c...</td>\n",
              "      <td>Active</td>\n",
              "      <td>ACTIVE</td>\n",
              "      <td>2021-05-02 19:16:16</td>\n",
              "      <td>2021-03-04 00:00:00</td>\n",
              "      <td>12800000</td>\n",
              "      <td>CA</td>\n",
              "      <td>San Francisco</td>\n",
              "      <td>94115</td>\n",
              "      <td>1901 Scott St</td>\n",
              "    </tr>\n",
              "    <tr>\n",
              "      <th>4</th>\n",
              "      <td>0</td>\n",
              "      <td>2021-04-12 00:00:00</td>\n",
              "      <td>Kevin Ho</td>\n",
              "      <td>699000</td>\n",
              "      <td>0.0</td>\n",
              "      <td>0.0</td>\n",
              "      <td>421534716</td>\n",
              "      <td>1.0</td>\n",
              "      <td>1.0</td>\n",
              "      <td>Vanguard Properties</td>\n",
              "      <td>CONDO</td>\n",
              "      <td>1965.0</td>\n",
              "      <td>94107</td>\n",
              "      <td>san-francisco-ca/875-vermont-st-204-san-franci...</td>\n",
              "      <td>Active</td>\n",
              "      <td>ACTIVE</td>\n",
              "      <td>2021-05-02 07:21:14</td>\n",
              "      <td>2021-04-12 00:00:00</td>\n",
              "      <td>699000</td>\n",
              "      <td>CA</td>\n",
              "      <td>San Francisco</td>\n",
              "      <td>94107</td>\n",
              "      <td>875 Vermont St #204</td>\n",
              "    </tr>\n",
              "    <tr>\n",
              "      <th>5</th>\n",
              "      <td>0</td>\n",
              "      <td>2021-04-22 00:00:00</td>\n",
              "      <td>Amanda Jones</td>\n",
              "      <td>3800000</td>\n",
              "      <td>2187.0</td>\n",
              "      <td>2735.0</td>\n",
              "      <td>421541582</td>\n",
              "      <td>3.0</td>\n",
              "      <td>3.0</td>\n",
              "      <td>Compass</td>\n",
              "      <td>CONDO</td>\n",
              "      <td>2019.0</td>\n",
              "      <td>94123</td>\n",
              "      <td>san-francisco-ca/2922-franklin-st-san-francisc...</td>\n",
              "      <td>Active</td>\n",
              "      <td>ACTIVE</td>\n",
              "      <td>2021-05-02 07:21:14</td>\n",
              "      <td>2021-04-22 00:00:00</td>\n",
              "      <td>3800000</td>\n",
              "      <td>CA</td>\n",
              "      <td>San Francisco</td>\n",
              "      <td>94123</td>\n",
              "      <td>2922 Franklin St</td>\n",
              "    </tr>\n",
              "  </tbody>\n",
              "</table>\n",
              "</div>"
            ],
            "text/plain": [
              "   daysOnMovoto             listDate  ... geo.zipcode          geo.address\n",
              "0             0  2021-05-02 00:00:00  ...       94110         639 Banks St\n",
              "1             0  2021-05-02 13:45:06  ...       94110  459 461 Potrero Ave\n",
              "2             0  2021-03-04 00:00:00  ...       94115        1901 Scott St\n",
              "4             0  2021-04-12 00:00:00  ...       94107  875 Vermont St #204\n",
              "5             0  2021-04-22 00:00:00  ...       94123     2922 Franklin St\n",
              "\n",
              "[5 rows x 23 columns]"
            ]
          },
          "metadata": {
            "tags": []
          },
          "execution_count": 54
        }
      ]
    },
    {
      "cell_type": "code",
      "metadata": {
        "id": "kRlcYqwJJD_Y"
      },
      "source": [
        "movoto_df['listDate'] =movoto_df['listDate'].astype('datetime64')"
      ],
      "execution_count": 64,
      "outputs": []
    },
    {
      "cell_type": "code",
      "metadata": {
        "id": "FMivRuCwyv7C"
      },
      "source": [
        "# converting all float values to int values to check if there are any outliers\n",
        "float_columns = movoto_df.select_dtypes(include=['float64'])\n",
        "for col in float_columns:\n",
        "  movoto_df[col] = movoto_df[col].astype('int64')"
      ],
      "execution_count": 55,
      "outputs": []
    },
    {
      "cell_type": "code",
      "metadata": {
        "colab": {
          "base_uri": "https://localhost:8080/"
        },
        "id": "tuG8E5nDzoEj",
        "outputId": "5d4d252a-b2d2-4b49-fcc9-ef28ea2500f6"
      },
      "source": [
        "movoto_df.dtypes"
      ],
      "execution_count": 65,
      "outputs": [
        {
          "output_type": "execute_result",
          "data": {
            "text/plain": [
              "daysOnMovoto                 int64\n",
              "listDate            datetime64[ns]\n",
              "listingAgent                object\n",
              "listPrice                    int64\n",
              "lotSize                      int64\n",
              "sqftTotal                    int64\n",
              "mlsNumber                   object\n",
              "bath                         int64\n",
              "bed                          int64\n",
              "officeListName              object\n",
              "propertyType                object\n",
              "yearBuilt                    int64\n",
              "zipCode                      int64\n",
              "path                        object\n",
              "status                      object\n",
              "houseRealStatus             object\n",
              "createdAt                   object\n",
              "onMarketDateTime            object\n",
              "priceRaw                     int64\n",
              "geo.state                   object\n",
              "geo.city                    object\n",
              "geo.zipcode                  int64\n",
              "geo.address                 object\n",
              "dtype: object"
            ]
          },
          "metadata": {
            "tags": []
          },
          "execution_count": 65
        }
      ]
    },
    {
      "cell_type": "markdown",
      "metadata": {
        "id": "GDrLLokW5V_E"
      },
      "source": [
        "**Outliers**\n",
        "\n",
        "---\n",
        "\n"
      ]
    },
    {
      "cell_type": "markdown",
      "metadata": {
        "id": "Hc2ytBB85UF7"
      },
      "source": [
        ""
      ]
    },
    {
      "cell_type": "code",
      "metadata": {
        "id": "4ZkSQQB4wJQP"
      },
      "source": [
        "import numpy as np\n",
        "from scipy import stats\n",
        "def drop_numerical_outliers(df, z_thresh=3):\n",
        "    # Constrains will contain `True` or `False` depending on if it is a value below the threshold.\n",
        "    constrains = df.select_dtypes(include=['int64']) \\\n",
        "        .apply(lambda x: np.abs(stats.zscore(x)) < z_thresh).all(axis=1)\n",
        "    # Drop (inplace) values set to be rejected\n",
        "    num = len(df.index[~constrains])\n",
        "    print(num)\n",
        "    print('There are %s outliers in this dataframe'%(num))\n",
        "    df.drop(df.index[~constrains], inplace=True)"
      ],
      "execution_count": 57,
      "outputs": []
    },
    {
      "cell_type": "code",
      "metadata": {
        "colab": {
          "base_uri": "https://localhost:8080/"
        },
        "id": "SJWPbxWNx2C_",
        "outputId": "0190b03e-13ea-4bb3-982a-3b1f050a74e8"
      },
      "source": [
        "drop_numerical_outliers(movoto_df)"
      ],
      "execution_count": 58,
      "outputs": [
        {
          "output_type": "stream",
          "text": [
            "112\n",
            "There are 112 outliers in this dataframe\n"
          ],
          "name": "stdout"
        }
      ]
    },
    {
      "cell_type": "code",
      "metadata": {
        "colab": {
          "base_uri": "https://localhost:8080/"
        },
        "id": "pl90i4GCwvoI",
        "outputId": "4c43c46f-5082-48ec-c409-d4e478ded122"
      },
      "source": [
        "movoto_df.shape # "
      ],
      "execution_count": 59,
      "outputs": [
        {
          "output_type": "execute_result",
          "data": {
            "text/plain": [
              "(1417, 23)"
            ]
          },
          "metadata": {
            "tags": []
          },
          "execution_count": 59
        }
      ]
    },
    {
      "cell_type": "code",
      "metadata": {
        "colab": {
          "base_uri": "https://localhost:8080/",
          "height": 666
        },
        "id": "CURb2O9E5fNz",
        "outputId": "d13a56a5-485e-4a69-887b-b0af18432de4"
      },
      "source": [
        "movoto_df.head()"
      ],
      "execution_count": 66,
      "outputs": [
        {
          "output_type": "execute_result",
          "data": {
            "text/html": [
              "<div>\n",
              "<style scoped>\n",
              "    .dataframe tbody tr th:only-of-type {\n",
              "        vertical-align: middle;\n",
              "    }\n",
              "\n",
              "    .dataframe tbody tr th {\n",
              "        vertical-align: top;\n",
              "    }\n",
              "\n",
              "    .dataframe thead th {\n",
              "        text-align: right;\n",
              "    }\n",
              "</style>\n",
              "<table border=\"1\" class=\"dataframe\">\n",
              "  <thead>\n",
              "    <tr style=\"text-align: right;\">\n",
              "      <th></th>\n",
              "      <th>daysOnMovoto</th>\n",
              "      <th>listDate</th>\n",
              "      <th>listingAgent</th>\n",
              "      <th>listPrice</th>\n",
              "      <th>lotSize</th>\n",
              "      <th>sqftTotal</th>\n",
              "      <th>mlsNumber</th>\n",
              "      <th>bath</th>\n",
              "      <th>bed</th>\n",
              "      <th>officeListName</th>\n",
              "      <th>propertyType</th>\n",
              "      <th>yearBuilt</th>\n",
              "      <th>zipCode</th>\n",
              "      <th>path</th>\n",
              "      <th>status</th>\n",
              "      <th>houseRealStatus</th>\n",
              "      <th>createdAt</th>\n",
              "      <th>onMarketDateTime</th>\n",
              "      <th>priceRaw</th>\n",
              "      <th>geo.state</th>\n",
              "      <th>geo.city</th>\n",
              "      <th>geo.zipcode</th>\n",
              "      <th>geo.address</th>\n",
              "    </tr>\n",
              "  </thead>\n",
              "  <tbody>\n",
              "    <tr>\n",
              "      <th>0</th>\n",
              "      <td>0</td>\n",
              "      <td>2021-05-02 00:00:00</td>\n",
              "      <td>Carlos Otazu</td>\n",
              "      <td>1150000</td>\n",
              "      <td>1750</td>\n",
              "      <td>1064</td>\n",
              "      <td>40948159</td>\n",
              "      <td>1</td>\n",
              "      <td>3</td>\n",
              "      <td>Bay Port Group Real Estate Inc.</td>\n",
              "      <td>SINGLE_FAMILY_HOUSE</td>\n",
              "      <td>1952</td>\n",
              "      <td>94110</td>\n",
              "      <td>san-francisco-ca/639-banks-st-san-francisco-ca...</td>\n",
              "      <td>Active</td>\n",
              "      <td>ACTIVE</td>\n",
              "      <td>2021-05-02 23:26:22</td>\n",
              "      <td>2021-05-02 00:00:00</td>\n",
              "      <td>1150000</td>\n",
              "      <td>CA</td>\n",
              "      <td>San Francisco</td>\n",
              "      <td>94110</td>\n",
              "      <td>639 Banks St</td>\n",
              "    </tr>\n",
              "    <tr>\n",
              "      <th>1</th>\n",
              "      <td>0</td>\n",
              "      <td>2021-05-02 13:45:06</td>\n",
              "      <td>Robert Pedro</td>\n",
              "      <td>1850000</td>\n",
              "      <td>2500</td>\n",
              "      <td>2592</td>\n",
              "      <td>ML81841885</td>\n",
              "      <td>4</td>\n",
              "      <td>5</td>\n",
              "      <td>Signature Realty &amp; Mortgage</td>\n",
              "      <td>SINGLE_FAMILY_HOUSE</td>\n",
              "      <td>1906</td>\n",
              "      <td>94110</td>\n",
              "      <td>san-francisco-ca/459-461-potrero-ave-san-franc...</td>\n",
              "      <td>Active</td>\n",
              "      <td>ACTIVE</td>\n",
              "      <td>2021-05-02 20:47:28</td>\n",
              "      <td>2021-05-02 13:45:06</td>\n",
              "      <td>1850000</td>\n",
              "      <td>CA</td>\n",
              "      <td>San Francisco</td>\n",
              "      <td>94110</td>\n",
              "      <td>459 461 Potrero Ave</td>\n",
              "    </tr>\n",
              "    <tr>\n",
              "      <th>4</th>\n",
              "      <td>0</td>\n",
              "      <td>2021-04-12 00:00:00</td>\n",
              "      <td>Kevin Ho</td>\n",
              "      <td>699000</td>\n",
              "      <td>0</td>\n",
              "      <td>0</td>\n",
              "      <td>421534716</td>\n",
              "      <td>1</td>\n",
              "      <td>1</td>\n",
              "      <td>Vanguard Properties</td>\n",
              "      <td>CONDO</td>\n",
              "      <td>1965</td>\n",
              "      <td>94107</td>\n",
              "      <td>san-francisco-ca/875-vermont-st-204-san-franci...</td>\n",
              "      <td>Active</td>\n",
              "      <td>ACTIVE</td>\n",
              "      <td>2021-05-02 07:21:14</td>\n",
              "      <td>2021-04-12 00:00:00</td>\n",
              "      <td>699000</td>\n",
              "      <td>CA</td>\n",
              "      <td>San Francisco</td>\n",
              "      <td>94107</td>\n",
              "      <td>875 Vermont St #204</td>\n",
              "    </tr>\n",
              "    <tr>\n",
              "      <th>5</th>\n",
              "      <td>0</td>\n",
              "      <td>2021-04-22 00:00:00</td>\n",
              "      <td>Amanda Jones</td>\n",
              "      <td>3800000</td>\n",
              "      <td>2187</td>\n",
              "      <td>2735</td>\n",
              "      <td>421541582</td>\n",
              "      <td>3</td>\n",
              "      <td>3</td>\n",
              "      <td>Compass</td>\n",
              "      <td>CONDO</td>\n",
              "      <td>2019</td>\n",
              "      <td>94123</td>\n",
              "      <td>san-francisco-ca/2922-franklin-st-san-francisc...</td>\n",
              "      <td>Active</td>\n",
              "      <td>ACTIVE</td>\n",
              "      <td>2021-05-02 07:21:14</td>\n",
              "      <td>2021-04-22 00:00:00</td>\n",
              "      <td>3800000</td>\n",
              "      <td>CA</td>\n",
              "      <td>San Francisco</td>\n",
              "      <td>94123</td>\n",
              "      <td>2922 Franklin St</td>\n",
              "    </tr>\n",
              "    <tr>\n",
              "      <th>7</th>\n",
              "      <td>0</td>\n",
              "      <td>2021-05-01 00:00:00</td>\n",
              "      <td>Deborah Nguyen</td>\n",
              "      <td>1395000</td>\n",
              "      <td>3371</td>\n",
              "      <td>1868</td>\n",
              "      <td>421544595</td>\n",
              "      <td>2</td>\n",
              "      <td>3</td>\n",
              "      <td>Compass</td>\n",
              "      <td>SINGLE_FAMILY_HOUSE</td>\n",
              "      <td>1956</td>\n",
              "      <td>94131</td>\n",
              "      <td>san-francisco-ca/187-skyview-way-san-francisco...</td>\n",
              "      <td>Active</td>\n",
              "      <td>ACTIVE</td>\n",
              "      <td>2021-05-02 04:01:19</td>\n",
              "      <td>2021-05-01 00:00:00</td>\n",
              "      <td>1395000</td>\n",
              "      <td>CA</td>\n",
              "      <td>San Francisco</td>\n",
              "      <td>94131</td>\n",
              "      <td>187 Skyview Way</td>\n",
              "    </tr>\n",
              "  </tbody>\n",
              "</table>\n",
              "</div>"
            ],
            "text/plain": [
              "   daysOnMovoto            listDate  ... geo.zipcode          geo.address\n",
              "0             0 2021-05-02 00:00:00  ...       94110         639 Banks St\n",
              "1             0 2021-05-02 13:45:06  ...       94110  459 461 Potrero Ave\n",
              "4             0 2021-04-12 00:00:00  ...       94107  875 Vermont St #204\n",
              "5             0 2021-04-22 00:00:00  ...       94123     2922 Franklin St\n",
              "7             0 2021-05-01 00:00:00  ...       94131      187 Skyview Way\n",
              "\n",
              "[5 rows x 23 columns]"
            ]
          },
          "metadata": {
            "tags": []
          },
          "execution_count": 66
        }
      ]
    },
    {
      "cell_type": "code",
      "metadata": {
        "colab": {
          "base_uri": "https://localhost:8080/"
        },
        "id": "p3C46YpeHzhk",
        "outputId": "36f2dc58-a96c-4ed9-c561-0716a452c24e"
      },
      "source": [
        "movoto_df.drop_duplicates"
      ],
      "execution_count": 61,
      "outputs": [
        {
          "output_type": "execute_result",
          "data": {
            "text/plain": [
              "<bound method DataFrame.drop_duplicates of       daysOnMovoto             listDate  ... geo.zipcode              geo.address\n",
              "0                0  2021-05-02 00:00:00  ...       94110             639 Banks St\n",
              "1                0  2021-05-02 13:45:06  ...       94110      459 461 Potrero Ave\n",
              "4                0  2021-04-12 00:00:00  ...       94107      875 Vermont St #204\n",
              "5                0  2021-04-22 00:00:00  ...       94123         2922 Franklin St\n",
              "7                0  2021-05-01 00:00:00  ...       94131          187 Skyview Way\n",
              "...            ...                  ...  ...         ...                      ...\n",
              "1963           223  2020-09-21 00:00:00  ...       94109  1155 Leavenworth St #22\n",
              "1964           226  2020-09-17 00:00:00  ...       94110       151 Bartlett St #2\n",
              "1965           233  2020-09-11 00:00:00  ...       94110     2407 Harrison St #17\n",
              "1966           240  2020-09-04 00:00:00  ...       94107       855 Folsom St #330\n",
              "1967           253  2020-08-22 00:00:00  ...       94112         143 Louisburg St\n",
              "\n",
              "[1417 rows x 23 columns]>"
            ]
          },
          "metadata": {
            "tags": []
          },
          "execution_count": 61
        }
      ]
    },
    {
      "cell_type": "code",
      "metadata": {
        "id": "ylpvmka6Ci1G"
      },
      "source": [
        "movoto_df.to_csv('movoto_final.csv',sep=',')"
      ],
      "execution_count": 62,
      "outputs": []
    }
  ]
}